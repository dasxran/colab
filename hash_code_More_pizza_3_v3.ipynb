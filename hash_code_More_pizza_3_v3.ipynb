{
  "nbformat": 4,
  "nbformat_minor": 0,
  "metadata": {
    "colab": {
      "name": "hash code - More pizza 3 v3.ipynb",
      "provenance": [],
      "authorship_tag": "ABX9TyNl3/L0cqhGIQ+ABFr/AzHX",
      "include_colab_link": true
    },
    "kernelspec": {
      "name": "python3",
      "display_name": "Python 3"
    }
  },
  "cells": [
    {
      "cell_type": "markdown",
      "metadata": {
        "id": "view-in-github",
        "colab_type": "text"
      },
      "source": [
        "<a href=\"https://colab.research.google.com/github/dasxran/colab/blob/master/hash_code_More_pizza_3_v3.ipynb\" target=\"_parent\"><img src=\"https://colab.research.google.com/assets/colab-badge.svg\" alt=\"Open In Colab\"/></a>"
      ]
    },
    {
      "cell_type": "code",
      "metadata": {
        "id": "pe85dOdIx_lj",
        "colab_type": "code",
        "colab": {
          "base_uri": "https://localhost:8080/",
          "height": 612
        },
        "outputId": "2113d7c0-1e5f-468e-8974-9f354640dead"
      },
      "source": [
        "line1 = \"250 10\" #@param {type:\"string\"}\n",
        "line2 = \"4 14 15 18 29 32 36 82 95 96\" #@param {type:\"string\"}\n",
        "\n",
        "#from sys import stdin\n",
        "import timeit\n",
        "import resource\n",
        "start = timeit.default_timer()\n",
        "\n",
        "#lines = [x for x in stdin.read().split('\\n')]\n",
        "\n",
        "constMaxSlices, constTypeOfPizza = [int(x) for x in line1.split()]\n",
        "pizzaList = [int(x) for x in line2.split()]\n",
        "\n",
        "maxCurrSumSet = [] #global variable set\n",
        "\n",
        "def recursion(pizzaList,i,tempSet,constTypeOfPizza,constMaxSlices):\n",
        "    global maxCurrSumSet\n",
        "    \n",
        "    if i < constTypeOfPizza :\n",
        "        print (\"start\",i,tempSet,\"append\",pizzaList[i])\n",
        "        \n",
        "        tempSet.append(pizzaList[i])\n",
        "        \n",
        "        if sum(tempSet) == constMaxSlices:\n",
        "            \n",
        "            if sum(tempSet) > sum(maxCurrSumSet):\n",
        "                maxCurrSumSet = list(tempSet)\n",
        "                print (\"global=\",i,maxCurrSumSet)\n",
        "            \n",
        "        elif sum(tempSet) < constMaxSlices:\n",
        "            \n",
        "            print (\"rec1\",i+1,tempSet)\n",
        "            tempSet = recursion(pizzaList,i+1,tempSet,constTypeOfPizza,constMaxSlices)\n",
        "            \n",
        "        else:\n",
        "            \n",
        "            tempSet.pop()\n",
        "            \n",
        "            if sum(tempSet) > sum(maxCurrSumSet):\n",
        "                maxCurrSumSet = list(tempSet)\n",
        "                print (\"global else2\",i,maxCurrSumSet)\n",
        "            \n",
        "            tempSet.pop()\n",
        "            print (\"rec2\",i,tempSet)\n",
        "            tempSet = recursion(pizzaList,i,tempSet,constTypeOfPizza,constMaxSlices)\n",
        "            \n",
        "    else:\n",
        "        \n",
        "        if sum(tempSet) > sum(maxCurrSumSet):\n",
        "            maxCurrSumSet = list(tempSet)\n",
        "        print (\"global else1\",i,tempSet)\n",
        "        \n",
        "        #tempSet.pop()\n",
        "        #tempSet.pop()\n",
        "        #print (\"rec3\",i-3,tempSet)\n",
        "        #tempSet = recursion(pizzaList,i-3,tempSet,constTypeOfPizza,constMaxSlices)\n",
        "        \n",
        "    #print (\"end\",i,tempSet)\n",
        "    return tempSet\n",
        "\n",
        "mySet = recursion(pizzaList,0,[],constTypeOfPizza,constMaxSlices)\n",
        "\n",
        "print (\"--------------------------------------\")\n",
        "print (mySet)\n",
        "print (sum(mySet))\n",
        "print (maxCurrSumSet)\n",
        "print (sum(maxCurrSumSet))\n",
        "\n",
        "print (\"--------------------------------------\")\n",
        "stop = timeit.default_timer()\n",
        "print('Time: ', stop - start) \n",
        "print (resource.getrusage(resource.RUSAGE_SELF).ru_maxrss)"
      ],
      "execution_count": 1,
      "outputs": [
        {
          "output_type": "stream",
          "text": [
            "start 0 [] append 4\n",
            "rec1 1 [4]\n",
            "start 1 [4] append 14\n",
            "rec1 2 [4, 14]\n",
            "start 2 [4, 14] append 15\n",
            "rec1 3 [4, 14, 15]\n",
            "start 3 [4, 14, 15] append 18\n",
            "rec1 4 [4, 14, 15, 18]\n",
            "start 4 [4, 14, 15, 18] append 29\n",
            "rec1 5 [4, 14, 15, 18, 29]\n",
            "start 5 [4, 14, 15, 18, 29] append 32\n",
            "rec1 6 [4, 14, 15, 18, 29, 32]\n",
            "start 6 [4, 14, 15, 18, 29, 32] append 36\n",
            "rec1 7 [4, 14, 15, 18, 29, 32, 36]\n",
            "start 7 [4, 14, 15, 18, 29, 32, 36] append 82\n",
            "rec1 8 [4, 14, 15, 18, 29, 32, 36, 82]\n",
            "start 8 [4, 14, 15, 18, 29, 32, 36, 82] append 95\n",
            "global else2 8 [4, 14, 15, 18, 29, 32, 36, 82]\n",
            "rec2 8 [4, 14, 15, 18, 29, 32, 36]\n",
            "start 8 [4, 14, 15, 18, 29, 32, 36] append 95\n",
            "rec1 9 [4, 14, 15, 18, 29, 32, 36, 95]\n",
            "start 9 [4, 14, 15, 18, 29, 32, 36, 95] append 96\n",
            "global else2 9 [4, 14, 15, 18, 29, 32, 36, 95]\n",
            "rec2 9 [4, 14, 15, 18, 29, 32, 36]\n",
            "start 9 [4, 14, 15, 18, 29, 32, 36] append 96\n",
            "rec1 10 [4, 14, 15, 18, 29, 32, 36, 96]\n",
            "global else1 10 [4, 14, 15, 18, 29, 32, 36, 96]\n",
            "--------------------------------------\n",
            "[4, 14, 15, 18, 29, 32, 36, 96]\n",
            "244\n",
            "[4, 14, 15, 18, 29, 32, 36, 96]\n",
            "244\n",
            "--------------------------------------\n",
            "Time:  0.009440440000005879\n",
            "151452\n"
          ],
          "name": "stdout"
        }
      ]
    }
  ]
}