{
  "nbformat": 4,
  "nbformat_minor": 0,
  "metadata": {
    "colab": {
      "name": "Colab's New Code Editor",
      "provenance": [],
      "collapsed_sections": [],
      "machine_shape": "hm",
      "include_colab_link": true
    },
    "kernelspec": {
      "name": "python3",
      "display_name": "Python 3"
    },
    "accelerator": "GPU"
  },
  "cells": [
    {
      "cell_type": "markdown",
      "metadata": {
        "id": "view-in-github",
        "colab_type": "text"
      },
      "source": [
        "<a href=\"https://colab.research.google.com/github/dasxran/colab/blob/master/hash%20code%20-%20More%20pizza%20Kanika%20di.ipynb\" target=\"_parent\"><img src=\"https://colab.research.google.com/assets/colab-badge.svg\" alt=\"Open In Colab\"/></a>"
      ]
    },
    {
      "cell_type": "code",
      "metadata": {
        "id": "WRylKHiTB20G",
        "colab_type": "code",
        "cellView": "both",
        "outputId": "f3024d2d-d0a7-43c2-e3ba-72e3a75c83dc",
        "colab": {
          "base_uri": "https://localhost:8080/",
          "height": 136
        }
      },
      "source": [
        "line1 = \"100 10\" #@param {type:\"string\"}\n",
        "line2 = \"4 14 15 18 29 32 36 82 95 95\" #@param {type:\"string\"}\n",
        "\n",
        "#from sys import stdin\n",
        "from itertools import combinations\n",
        "\n",
        "#lines = [x for x in stdin.read().split('\\n')]\n",
        "\n",
        "maxSlices, noOfPizzaAvl = [int(x) for x in line1.split()]\n",
        "listPizzaAvl = [int(x) for x in line2.split()]\n",
        "\n",
        "# print('max slices, diff types of pizza: ', [maxSlices, noOfPizzaAvl])\n",
        "\n",
        "def solution(maxSlices, noOfPizzaAvl, listPizzaAvl):\n",
        "    \n",
        "    pizza_type_list = listPizzaAvl\n",
        "    final_pizza_type_list = []\n",
        "    Sum_pizza =0\n",
        "    highest_pizza = 0\n",
        "    \n",
        "    #taking input from User\n",
        "    maximum_pizza_slices = maxSlices\n",
        "    #taking input from User\n",
        "    pizza_type = noOfPizzaAvl\n",
        "    \n",
        "    print (pizza_type)\n",
        "    \n",
        "    print (pizza_type_list)\n",
        "    \n",
        "    #code to print all possible combination of items in array\n",
        "    output = sum([list(map(list, combinations(pizza_type_list, i))) for i in range(len(pizza_type_list) + 1)], [])\n",
        "    #print(output)\n",
        "    \n",
        "    pizza_combinations = len(output)\n",
        "    for j in range(1, pizza_combinations):\n",
        "        Sum_pizza = sum(output[j])\n",
        "        if (Sum_pizza<=maximum_pizza_slices):\n",
        "            if(Sum_pizza>highest_pizza):\n",
        "                highest_pizza = Sum_pizza\n",
        "                final_pizza_type_list = []\n",
        "                final_pizza_type_list.extend(output[j])\n",
        "    \n",
        "    \n",
        "    print (\"Maximum Slice Can be Ordered\" , highest_pizza)\n",
        "    print (\"Final list\", final_pizza_type_list)\n",
        "    print (\"------------\")\n",
        "    print (len(final_pizza_type_list))\n",
        "    print (getFinalListIndex(listPizzaAvl, final_pizza_type_list))\n",
        "    \n",
        "    \n",
        "def getFinalListIndex(listPizzaAvl, final_pizza_type_list):\n",
        "    \n",
        "    final_pizza_type_index_list = []\n",
        "    \n",
        "    for num1 in final_pizza_type_list:\n",
        "        for i, num2 in enumerate(listPizzaAvl):\n",
        "            if num1 == num2:\n",
        "                final_pizza_type_index_list.append(i)\n",
        "    \n",
        "    return ' '.join(map(str, [ele for ele in final_pizza_type_index_list]))\n",
        "    \n",
        "    \n",
        "solution(maxSlices, noOfPizzaAvl, listPizzaAvl)"
      ],
      "execution_count": 1,
      "outputs": [
        {
          "output_type": "stream",
          "text": [
            "10\n",
            "[4, 14, 15, 18, 29, 32, 36, 82, 95, 95]\n",
            "Maximum Slice Can be Ordered 100\n",
            "Final list [18, 82]\n",
            "------------\n",
            "2\n",
            "3 7\n"
          ],
          "name": "stdout"
        }
      ]
    },
    {
      "cell_type": "code",
      "metadata": {
        "id": "vGeF7RhoB8zH",
        "colab_type": "code",
        "colab": {}
      },
      "source": [
        ""
      ],
      "execution_count": 0,
      "outputs": []
    }
  ]
}