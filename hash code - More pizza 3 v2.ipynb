{
  "nbformat": 4,
  "nbformat_minor": 0,
  "metadata": {
    "colab": {
      "name": "Colab's New Code Editor",
      "provenance": [],
      "collapsed_sections": [],
      "machine_shape": "hm",
      "include_colab_link": true
    },
    "kernelspec": {
      "name": "python3",
      "display_name": "Python 3"
    }
  },
  "cells": [
    {
      "cell_type": "markdown",
      "metadata": {
        "id": "view-in-github",
        "colab_type": "text"
      },
      "source": [
        "<a href=\"https://colab.research.google.com/github/dasxran/colab/blob/master/hash%20code%20-%20More%20pizza%203%20v2.ipynb\" target=\"_parent\"><img src=\"https://colab.research.google.com/assets/colab-badge.svg\" alt=\"Open In Colab\"/></a>"
      ]
    },
    {
      "cell_type": "code",
      "metadata": {
        "id": "WRylKHiTB20G",
        "colab_type": "code",
        "cellView": "both",
        "outputId": "7480f4b5-17c7-4f31-d624-e80ccf7edb29",
        "colab": {
          "base_uri": "https://localhost:8080/",
          "height": 187
        }
      },
      "source": [
        "line1 = \"4500 50\" #@param {type:\"string\"}\n",
        "line2 = \"7 12 12 13 14 28 29 29 30 32 32 34 41 45 46 56 61 61 62 63 65 68 76 77 77 92 93 94 97 103 113 114 114 120 135 145 145 149 156 157 160 169 172 179 184 185 189 194 195 195\" #@param {type:\"string\"}\n",
        "\n",
        "#from sys import stdin\n",
        "from itertools import combinations\n",
        "\n",
        "#lines = [x for x in stdin.read().split('\\n')]\n",
        "\n",
        "maxSlices, noOfPizzaAvl = [int(x) for x in line1.split()]\n",
        "listPizzaAvl = [int(x) for x in line2.split()]\n",
        "\n",
        "# print('max slices, diff types of pizza: ', [maxSlices, noOfPizzaAvl])\n",
        "\n",
        "def solution(maxSlices, noOfPizzaAvl, listPizzaAvl):\n",
        "    \n",
        "    pizza_type_list = listPizzaAvl\n",
        "    final_pizza_type_list = []\n",
        "    Sum_pizza =0\n",
        "    highest_pizza = 0\n",
        "    \n",
        "    #taking input from User\n",
        "    maximum_pizza_slices = maxSlices\n",
        "    #taking input from User\n",
        "    pizza_type = noOfPizzaAvl\n",
        "    \n",
        "    print (pizza_type)    \n",
        "    print (pizza_type_list)    \n",
        "    print(\"------------------------------------------\")\n",
        "    \n",
        "    newoutput = []\n",
        "    currMaxSlicesSet = 0\n",
        "    for i in range(len(pizza_type_list) + 1):\n",
        "        newoutput += appendCombination(i, pizza_type_list, maximum_pizza_slices)\n",
        "        newoutput, currMaxSlicesSet = removeCombination(newoutput, currMaxSlicesSet)\n",
        "        \n",
        "        print (newoutput)\n",
        "    \n",
        "    print(\"------------------------------------------\")\n",
        "    \n",
        "    print (len(newoutput[0]))\n",
        "    print (getFinalListIndex(listPizzaAvl, newoutput[0]))\n",
        "\n",
        "def getMaxLimitSet():\n",
        "    pass\n",
        "    \"\"\"\n",
        "    pizza_combinations = len(output)\n",
        "    for j in range(1, pizza_combinations):\n",
        "        Sum_pizza = sum(output[j])\n",
        "        if (Sum_pizza<=maximum_pizza_slices):\n",
        "            if(Sum_pizza>highest_pizza):\n",
        "                highest_pizza = Sum_pizza\n",
        "                final_pizza_type_list = []\n",
        "                final_pizza_type_list.extend(output[j])\n",
        "    \n",
        "    \"\"\"\n",
        "\n",
        "def appendCombination(i, pizza_type_list, maxSlices):\n",
        "    temp = list(combinations(pizza_type_list, i))\n",
        "    # removing tuples where sum is greater maximum_pizza_slices\n",
        "    result = [tup for tup in temp if sum(tup) <= maxSlices] \n",
        "    return list(map(list, result))\n",
        "        \n",
        "\n",
        "def removeCombination(pizza_type_list, currMaxSlicesSet):\n",
        "    \n",
        "    for item in pizza_type_list:\n",
        "        if sum(item) > currMaxSlicesSet:\n",
        "            currMaxSlicesSet = sum(item)\n",
        "    \n",
        "    pizza_type_list = [item for item in pizza_type_list if sum(item) >= currMaxSlicesSet]\n",
        "    \n",
        "    return pizza_type_list, currMaxSlicesSet\n",
        "\n",
        "    \n",
        "def getFinalListIndex(listPizzaAvl, final_pizza_type_list):\n",
        "    \n",
        "    final_pizza_type_index_list = []\n",
        "    \n",
        "    for num1 in final_pizza_type_list:\n",
        "        for i, num2 in enumerate(listPizzaAvl):\n",
        "            if num1 == num2:\n",
        "                final_pizza_type_index_list.append(i)\n",
        "    \n",
        "    return ' '.join(map(str, [ele for ele in final_pizza_type_index_list]))\n",
        "\n",
        "    \n",
        "solution(maxSlices, noOfPizzaAvl, listPizzaAvl)"
      ],
      "execution_count": 0,
      "outputs": [
        {
          "output_type": "stream",
          "text": [
            "50\n",
            "[7, 12, 12, 13, 14, 28, 29, 29, 30, 32, 32, 34, 41, 45, 46, 56, 61, 61, 62, 63, 65, 68, 76, 77, 77, 92, 93, 94, 97, 103, 113, 114, 114, 120, 135, 145, 145, 149, 156, 157, 160, 169, 172, 179, 184, 185, 189, 194, 195, 195]\n",
            "------------------------------------------\n",
            "[[]]\n",
            "[[195], [195]]\n",
            "[[195, 195]]\n",
            "[[194, 195, 195]]\n",
            "[[189, 194, 195, 195]]\n",
            "[[185, 189, 194, 195, 195]]\n",
            "[[184, 185, 189, 194, 195, 195]]\n"
          ],
          "name": "stdout"
        }
      ]
    },
    {
      "cell_type": "code",
      "metadata": {
        "id": "vGeF7RhoB8zH",
        "colab_type": "code",
        "colab": {}
      },
      "source": [
        ""
      ],
      "execution_count": 0,
      "outputs": []
    }
  ]
}