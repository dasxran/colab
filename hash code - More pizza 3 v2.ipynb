{
  "nbformat": 4,
  "nbformat_minor": 0,
  "metadata": {
    "colab": {
      "name": "Colab's New Code Editor",
      "provenance": [],
      "collapsed_sections": [],
      "machine_shape": "hm",
      "include_colab_link": true
    },
    "kernelspec": {
      "name": "python3",
      "display_name": "Python 3"
    }
  },
  "cells": [
    {
      "cell_type": "markdown",
      "metadata": {
        "id": "view-in-github",
        "colab_type": "text"
      },
      "source": [
        "<a href=\"https://colab.research.google.com/github/dasxran/colab/blob/master/hash%20code%20-%20More%20pizza%203%20v2.ipynb\" target=\"_parent\"><img src=\"https://colab.research.google.com/assets/colab-badge.svg\" alt=\"Open In Colab\"/></a>"
      ]
    },
    {
      "cell_type": "code",
      "metadata": {
        "id": "WRylKHiTB20G",
        "colab_type": "code",
        "cellView": "both",
        "outputId": "e5953981-fcce-4662-db71-357d0a6eab1f",
        "colab": {
          "base_uri": "https://localhost:8080/",
          "height": 340
        }
      },
      "source": [
        "line1 = \"100 10\" #@param {type:\"string\"}\n",
        "line2 = \"4 14 15 18 29 32 36 82 95 95\" #@param {type:\"string\"}\n",
        "\n",
        "#from sys import stdin\n",
        "import timeit\n",
        "import resource\n",
        "start = timeit.default_timer()\n",
        "\n",
        "#lines = [x for x in stdin.read().split('\\n')]\n",
        "\n",
        "maxSlices, noOfPizzaAvl = [int(x) for x in line1.split()]\n",
        "listPizzaAvl = [int(x) for x in line2.split()]\n",
        "\n",
        "def solution(maxSlices, noOfPizzaAvl, listPizzaAvl):\n",
        "    \n",
        "    pizza_type_list = listPizzaAvl\n",
        "    \n",
        "    print (maxSlices, noOfPizzaAvl)\n",
        "    print (pizza_type_list)\n",
        "    print(\"------------------------------------------\")\n",
        "    \n",
        "    newoutput = []\n",
        "    currMaxSlicesSet = 0\n",
        "    for i in range(len(pizza_type_list) + 1):\n",
        "        newoutput += myCombinations(pizza_type_list, i, maxSlices)\n",
        "        newoutput, currMaxSlicesSet = removeCombination(newoutput, currMaxSlicesSet)\n",
        "        \n",
        "        print (newoutput)\n",
        "    \n",
        "    print(\"------------------------------------------\")\n",
        "    \n",
        "    print (len(newoutput[0]))\n",
        "    print (getFinalListIndex(listPizzaAvl, newoutput[0]))\n",
        "\n",
        "\n",
        "def myCombinations(lst,n,mx):\n",
        "    if n==0:\n",
        "        return [[]]\n",
        "    l=[]\n",
        "    for i in range(0,len(lst)):\n",
        "        m=lst[i]\n",
        "        remLst=lst[i+1:]\n",
        "        for p in myCombinations(remLst,n-1,mx):\n",
        "            if sum([m]+p) <= mx: l.append([m]+p)\n",
        "    return l\n",
        "    \n",
        "\n",
        "def removeCombination(pizza_type_list, currMaxSlicesSet):\n",
        "    \n",
        "    for item in pizza_type_list:\n",
        "        if sum(item) > currMaxSlicesSet:\n",
        "            currMaxSlicesSet = sum(item)\n",
        "    \n",
        "    pizza_type_list = [item for item in pizza_type_list if sum(item) >= currMaxSlicesSet]\n",
        "    \n",
        "    return pizza_type_list, currMaxSlicesSet\n",
        "\n",
        "    \n",
        "def getFinalListIndex(listPizzaAvl, final_pizza_type_list):\n",
        "    \n",
        "    final_pizza_type_index_list = []\n",
        "    \n",
        "    for num1 in final_pizza_type_list:\n",
        "        for i, num2 in enumerate(listPizzaAvl):\n",
        "            if num1 == num2:\n",
        "                final_pizza_type_index_list.append(i)\n",
        "    \n",
        "    return ' '.join(map(str, [ele for ele in final_pizza_type_index_list]))\n",
        "\n",
        "    \n",
        "solution(maxSlices, noOfPizzaAvl, listPizzaAvl)\n",
        "\n",
        "stop = timeit.default_timer()\n",
        "print ('Time: ', stop - start) \n",
        "print (resource.getrusage(resource.RUSAGE_SELF).ru_maxrss)"
      ],
      "execution_count": 2,
      "outputs": [
        {
          "output_type": "stream",
          "text": [
            "100 10\n",
            "[4, 14, 15, 18, 29, 32, 36, 82, 95, 95]\n",
            "------------------------------------------\n",
            "[[]]\n",
            "[[95], [95]]\n",
            "[[18, 82]]\n",
            "[[18, 82], [4, 14, 82]]\n",
            "[[18, 82], [4, 14, 82], [14, 18, 32, 36]]\n",
            "[[18, 82], [4, 14, 82], [14, 18, 32, 36]]\n",
            "[[18, 82], [4, 14, 82], [14, 18, 32, 36]]\n",
            "[[18, 82], [4, 14, 82], [14, 18, 32, 36]]\n",
            "[[18, 82], [4, 14, 82], [14, 18, 32, 36]]\n",
            "[[18, 82], [4, 14, 82], [14, 18, 32, 36]]\n",
            "[[18, 82], [4, 14, 82], [14, 18, 32, 36]]\n",
            "------------------------------------------\n",
            "2\n",
            "3 7\n",
            "Time:  0.0073033370003940945\n",
            "150708\n"
          ],
          "name": "stdout"
        }
      ]
    },
    {
      "cell_type": "code",
      "metadata": {
        "id": "vGeF7RhoB8zH",
        "colab_type": "code",
        "colab": {}
      },
      "source": [
        ""
      ],
      "execution_count": 0,
      "outputs": []
    }
  ]
}